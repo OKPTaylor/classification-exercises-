{
 "cells": [
  {
   "cell_type": "code",
   "execution_count": 1,
   "metadata": {},
   "outputs": [],
   "source": [
    "# Tabular data friends:\n",
    "import pandas as pd\n",
    "import numpy as np\n",
    "\n",
    "# Data viz:\n",
    "import matplotlib.pyplot as plt\n",
    "import seaborn as sns\n",
    "\n",
    "# Sklearn stuff:\n",
    "from sklearn.model_selection import train_test_split\n",
    "from sklearn.neighbors import KNeighborsClassifier\n",
    "from sklearn.metrics import classification_report, confusion_matrix, plot_confusion_matrix\n",
    "\n",
    "# my modules\n",
    "import prepare as prep\n",
    "import acquire as acq\n",
    "import auto_model as atm\n",
    "import os "
   ]
  },
  {
   "cell_type": "code",
   "execution_count": 6,
   "metadata": {},
   "outputs": [],
   "source": [
    "sql_query = \"select * from passengers\"\n",
    "directory = os.getcwd()\n",
    "url_for_query = acq.get_db_url(\"titanic_db\")\n",
    "filename = \"titanic_passangers.csv\"\n",
    "\n",
    "titanic = acq.get_sql_data(sql_query, directory, url_for_query, filename)"
   ]
  },
  {
   "cell_type": "code",
   "execution_count": 7,
   "metadata": {},
   "outputs": [],
   "source": [
    "titanic = titanic.drop(columns=['embarked','class', 'age','deck'])"
   ]
  },
  {
   "cell_type": "code",
   "execution_count": 8,
   "metadata": {},
   "outputs": [
    {
     "data": {
      "text/html": [
       "<div>\n",
       "<style scoped>\n",
       "    .dataframe tbody tr th:only-of-type {\n",
       "        vertical-align: middle;\n",
       "    }\n",
       "\n",
       "    .dataframe tbody tr th {\n",
       "        vertical-align: top;\n",
       "    }\n",
       "\n",
       "    .dataframe thead th {\n",
       "        text-align: right;\n",
       "    }\n",
       "</style>\n",
       "<table border=\"1\" class=\"dataframe\">\n",
       "  <thead>\n",
       "    <tr style=\"text-align: right;\">\n",
       "      <th></th>\n",
       "      <th>passenger_id</th>\n",
       "      <th>survived</th>\n",
       "      <th>pclass</th>\n",
       "      <th>sex</th>\n",
       "      <th>sibsp</th>\n",
       "      <th>parch</th>\n",
       "      <th>fare</th>\n",
       "      <th>embark_town</th>\n",
       "      <th>alone</th>\n",
       "      <th>sex_male</th>\n",
       "      <th>embark_town_Queenstown</th>\n",
       "      <th>embark_town_Southampton</th>\n",
       "    </tr>\n",
       "  </thead>\n",
       "  <tbody>\n",
       "    <tr>\n",
       "      <th>0</th>\n",
       "      <td>0</td>\n",
       "      <td>0</td>\n",
       "      <td>3</td>\n",
       "      <td>male</td>\n",
       "      <td>1</td>\n",
       "      <td>0</td>\n",
       "      <td>7.2500</td>\n",
       "      <td>Southampton</td>\n",
       "      <td>0</td>\n",
       "      <td>1</td>\n",
       "      <td>0</td>\n",
       "      <td>1</td>\n",
       "    </tr>\n",
       "    <tr>\n",
       "      <th>1</th>\n",
       "      <td>1</td>\n",
       "      <td>1</td>\n",
       "      <td>1</td>\n",
       "      <td>female</td>\n",
       "      <td>1</td>\n",
       "      <td>0</td>\n",
       "      <td>71.2833</td>\n",
       "      <td>Cherbourg</td>\n",
       "      <td>0</td>\n",
       "      <td>0</td>\n",
       "      <td>0</td>\n",
       "      <td>0</td>\n",
       "    </tr>\n",
       "    <tr>\n",
       "      <th>2</th>\n",
       "      <td>2</td>\n",
       "      <td>1</td>\n",
       "      <td>3</td>\n",
       "      <td>female</td>\n",
       "      <td>0</td>\n",
       "      <td>0</td>\n",
       "      <td>7.9250</td>\n",
       "      <td>Southampton</td>\n",
       "      <td>1</td>\n",
       "      <td>0</td>\n",
       "      <td>0</td>\n",
       "      <td>1</td>\n",
       "    </tr>\n",
       "    <tr>\n",
       "      <th>3</th>\n",
       "      <td>3</td>\n",
       "      <td>1</td>\n",
       "      <td>1</td>\n",
       "      <td>female</td>\n",
       "      <td>1</td>\n",
       "      <td>0</td>\n",
       "      <td>53.1000</td>\n",
       "      <td>Southampton</td>\n",
       "      <td>0</td>\n",
       "      <td>0</td>\n",
       "      <td>0</td>\n",
       "      <td>1</td>\n",
       "    </tr>\n",
       "    <tr>\n",
       "      <th>4</th>\n",
       "      <td>4</td>\n",
       "      <td>0</td>\n",
       "      <td>3</td>\n",
       "      <td>male</td>\n",
       "      <td>0</td>\n",
       "      <td>0</td>\n",
       "      <td>8.0500</td>\n",
       "      <td>Southampton</td>\n",
       "      <td>1</td>\n",
       "      <td>1</td>\n",
       "      <td>0</td>\n",
       "      <td>1</td>\n",
       "    </tr>\n",
       "  </tbody>\n",
       "</table>\n",
       "</div>"
      ],
      "text/plain": [
       "   passenger_id  survived  pclass     sex  sibsp  parch     fare  embark_town  \\\n",
       "0             0         0       3    male      1      0   7.2500  Southampton   \n",
       "1             1         1       1  female      1      0  71.2833    Cherbourg   \n",
       "2             2         1       3  female      0      0   7.9250  Southampton   \n",
       "3             3         1       1  female      1      0  53.1000  Southampton   \n",
       "4             4         0       3    male      0      0   8.0500  Southampton   \n",
       "\n",
       "   alone  sex_male  embark_town_Queenstown  embark_town_Southampton  \n",
       "0      0         1                       0                        1  \n",
       "1      0         0                       0                        0  \n",
       "2      1         0                       0                        1  \n",
       "3      0         0                       0                        1  \n",
       "4      1         1                       0                        1  "
      ]
     },
     "execution_count": 8,
     "metadata": {},
     "output_type": "execute_result"
    }
   ],
   "source": [
    "dummy_df = pd.get_dummies(data=titanic[['sex','embark_town']], drop_first=True)\n",
    "titanic = pd.concat([titanic, dummy_df], axis=1)\n",
    "titanic.head()"
   ]
  },
  {
   "cell_type": "code",
   "execution_count": 9,
   "metadata": {},
   "outputs": [],
   "source": [
    "titanic_train, titanic_validate, titanic_test = prep.split_function(titanic, 'survived')"
   ]
  },
  {
   "cell_type": "code",
   "execution_count": 10,
   "metadata": {},
   "outputs": [
    {
     "data": {
      "text/plain": [
       "0.6161048689138576"
      ]
     },
     "execution_count": 10,
     "metadata": {},
     "output_type": "execute_result"
    }
   ],
   "source": [
    "baseline = (titanic_train.survived == titanic_train.survived.value_counts().idxmax()).mean()\n",
    "baseline"
   ]
  },
  {
   "cell_type": "code",
   "execution_count": null,
   "metadata": {},
   "outputs": [],
   "source": [
    "#I would explore the data at this point but that has been done"
   ]
  },
  {
   "cell_type": "code",
   "execution_count": 11,
   "metadata": {},
   "outputs": [],
   "source": [
    "X_train = titanic_train.drop(columns = ['survived','sex','passenger_id','embark_town'])"
   ]
  },
  {
   "cell_type": "code",
   "execution_count": 12,
   "metadata": {},
   "outputs": [
    {
     "data": {
      "text/html": [
       "<div>\n",
       "<style scoped>\n",
       "    .dataframe tbody tr th:only-of-type {\n",
       "        vertical-align: middle;\n",
       "    }\n",
       "\n",
       "    .dataframe tbody tr th {\n",
       "        vertical-align: top;\n",
       "    }\n",
       "\n",
       "    .dataframe thead th {\n",
       "        text-align: right;\n",
       "    }\n",
       "</style>\n",
       "<table border=\"1\" class=\"dataframe\">\n",
       "  <thead>\n",
       "    <tr style=\"text-align: right;\">\n",
       "      <th></th>\n",
       "      <th>pclass</th>\n",
       "      <th>sibsp</th>\n",
       "      <th>parch</th>\n",
       "      <th>fare</th>\n",
       "      <th>alone</th>\n",
       "      <th>sex_male</th>\n",
       "      <th>embark_town_Queenstown</th>\n",
       "      <th>embark_town_Southampton</th>\n",
       "    </tr>\n",
       "  </thead>\n",
       "  <tbody>\n",
       "    <tr>\n",
       "      <th>455</th>\n",
       "      <td>3</td>\n",
       "      <td>0</td>\n",
       "      <td>0</td>\n",
       "      <td>7.8958</td>\n",
       "      <td>1</td>\n",
       "      <td>1</td>\n",
       "      <td>0</td>\n",
       "      <td>0</td>\n",
       "    </tr>\n",
       "    <tr>\n",
       "      <th>380</th>\n",
       "      <td>1</td>\n",
       "      <td>0</td>\n",
       "      <td>0</td>\n",
       "      <td>227.5250</td>\n",
       "      <td>1</td>\n",
       "      <td>0</td>\n",
       "      <td>0</td>\n",
       "      <td>0</td>\n",
       "    </tr>\n",
       "    <tr>\n",
       "      <th>492</th>\n",
       "      <td>1</td>\n",
       "      <td>0</td>\n",
       "      <td>0</td>\n",
       "      <td>30.5000</td>\n",
       "      <td>1</td>\n",
       "      <td>1</td>\n",
       "      <td>0</td>\n",
       "      <td>1</td>\n",
       "    </tr>\n",
       "    <tr>\n",
       "      <th>55</th>\n",
       "      <td>1</td>\n",
       "      <td>0</td>\n",
       "      <td>0</td>\n",
       "      <td>35.5000</td>\n",
       "      <td>1</td>\n",
       "      <td>1</td>\n",
       "      <td>0</td>\n",
       "      <td>1</td>\n",
       "    </tr>\n",
       "    <tr>\n",
       "      <th>243</th>\n",
       "      <td>3</td>\n",
       "      <td>0</td>\n",
       "      <td>0</td>\n",
       "      <td>7.1250</td>\n",
       "      <td>1</td>\n",
       "      <td>1</td>\n",
       "      <td>0</td>\n",
       "      <td>1</td>\n",
       "    </tr>\n",
       "  </tbody>\n",
       "</table>\n",
       "</div>"
      ],
      "text/plain": [
       "     pclass  sibsp  parch      fare  alone  sex_male  embark_town_Queenstown  \\\n",
       "455       3      0      0    7.8958      1         1                       0   \n",
       "380       1      0      0  227.5250      1         0                       0   \n",
       "492       1      0      0   30.5000      1         1                       0   \n",
       "55        1      0      0   35.5000      1         1                       0   \n",
       "243       3      0      0    7.1250      1         1                       0   \n",
       "\n",
       "     embark_town_Southampton  \n",
       "455                        0  \n",
       "380                        0  \n",
       "492                        1  \n",
       "55                         1  \n",
       "243                        1  "
      ]
     },
     "execution_count": 12,
     "metadata": {},
     "output_type": "execute_result"
    }
   ],
   "source": [
    "X_train.head()"
   ]
  },
  {
   "cell_type": "code",
   "execution_count": 13,
   "metadata": {},
   "outputs": [],
   "source": [
    "X_validate = titanic_validate.drop(columns = ['survived','sex','passenger_id','embark_town'])\n",
    "X_test = titanic_test.drop(columns = ['survived','sex','passenger_id','embark_town'])"
   ]
  },
  {
   "cell_type": "code",
   "execution_count": 14,
   "metadata": {},
   "outputs": [],
   "source": [
    "target = \"survived\""
   ]
  },
  {
   "cell_type": "code",
   "execution_count": 15,
   "metadata": {},
   "outputs": [
    {
     "data": {
      "text/plain": [
       "455    1\n",
       "380    1\n",
       "492    0\n",
       "55     1\n",
       "243    0\n",
       "Name: survived, dtype: int64"
      ]
     },
     "execution_count": 15,
     "metadata": {},
     "output_type": "execute_result"
    }
   ],
   "source": [
    "y_train = titanic_train[target]\n",
    "y_train.head()"
   ]
  },
  {
   "cell_type": "code",
   "execution_count": 16,
   "metadata": {},
   "outputs": [],
   "source": [
    "y_validate = titanic_validate[target]\n",
    "y_test = titanic_test[target]"
   ]
  },
  {
   "cell_type": "code",
   "execution_count": 13,
   "metadata": {},
   "outputs": [],
   "source": [
    "knn5 = KNeighborsClassifier() #the default are n_neighbors=5 and weights=\"uniform\""
   ]
  },
  {
   "cell_type": "code",
   "execution_count": 14,
   "metadata": {},
   "outputs": [
    {
     "data": {
      "text/plain": [
       "KNeighborsClassifier()"
      ]
     },
     "execution_count": 14,
     "metadata": {},
     "output_type": "execute_result"
    }
   ],
   "source": [
    "knn5.fit(X_train, y_train)"
   ]
  },
  {
   "cell_type": "code",
   "execution_count": 15,
   "metadata": {},
   "outputs": [],
   "source": [
    "y_pred5 = knn5.predict(X_train)"
   ]
  },
  {
   "cell_type": "code",
   "execution_count": 16,
   "metadata": {},
   "outputs": [],
   "source": [
    "y_pred_proba5 = knn5.predict_proba(X_train) #Note: returns an array"
   ]
  },
  {
   "cell_type": "code",
   "execution_count": 17,
   "metadata": {},
   "outputs": [
    {
     "data": {
      "text/plain": [
       "0.8146067415730337"
      ]
     },
     "execution_count": 17,
     "metadata": {},
     "output_type": "execute_result"
    }
   ],
   "source": [
    "knn5.score(X_train,y_train)"
   ]
  },
  {
   "cell_type": "code",
   "execution_count": 18,
   "metadata": {},
   "outputs": [
    {
     "data": {
      "text/plain": [
       "array([[0.8, 0.2],\n",
       "       [0.4, 0.6],\n",
       "       [0.4, 0.6],\n",
       "       [0.6, 0.4],\n",
       "       [1. , 0. ]])"
      ]
     },
     "execution_count": 18,
     "metadata": {},
     "output_type": "execute_result"
    }
   ],
   "source": [
    "y_pred_proba5[:5]"
   ]
  },
  {
   "cell_type": "code",
   "execution_count": 20,
   "metadata": {},
   "outputs": [
    {
     "data": {
      "text/plain": [
       "array([0, 1])"
      ]
     },
     "execution_count": 20,
     "metadata": {},
     "output_type": "execute_result"
    }
   ],
   "source": [
    "knn5.classes_ #shows you the classes of prediction cata"
   ]
  },
  {
   "cell_type": "code",
   "execution_count": 21,
   "metadata": {},
   "outputs": [
    {
     "data": {
      "text/html": [
       "<div>\n",
       "<style scoped>\n",
       "    .dataframe tbody tr th:only-of-type {\n",
       "        vertical-align: middle;\n",
       "    }\n",
       "\n",
       "    .dataframe tbody tr th {\n",
       "        vertical-align: top;\n",
       "    }\n",
       "\n",
       "    .dataframe thead th {\n",
       "        text-align: right;\n",
       "    }\n",
       "</style>\n",
       "<table border=\"1\" class=\"dataframe\">\n",
       "  <thead>\n",
       "    <tr style=\"text-align: right;\">\n",
       "      <th>col_0</th>\n",
       "      <th>0</th>\n",
       "      <th>1</th>\n",
       "    </tr>\n",
       "    <tr>\n",
       "      <th>survived</th>\n",
       "      <th></th>\n",
       "      <th></th>\n",
       "    </tr>\n",
       "  </thead>\n",
       "  <tbody>\n",
       "    <tr>\n",
       "      <th>0</th>\n",
       "      <td>285</td>\n",
       "      <td>44</td>\n",
       "    </tr>\n",
       "    <tr>\n",
       "      <th>1</th>\n",
       "      <td>55</td>\n",
       "      <td>150</td>\n",
       "    </tr>\n",
       "  </tbody>\n",
       "</table>\n",
       "</div>"
      ],
      "text/plain": [
       "col_0       0    1\n",
       "survived          \n",
       "0         285   44\n",
       "1          55  150"
      ]
     },
     "execution_count": 21,
     "metadata": {},
     "output_type": "execute_result"
    }
   ],
   "source": [
    "#accarcy time \n",
    "\n",
    "pd.crosstab(y_train, y_pred5) #rows are acctuals and columns are predictions "
   ]
  },
  {
   "cell_type": "code",
   "execution_count": 22,
   "metadata": {},
   "outputs": [
    {
     "data": {
      "text/plain": [
       "<sklearn.metrics._plot.confusion_matrix.ConfusionMatrixDisplay at 0x7f94705d8820>"
      ]
     },
     "execution_count": 22,
     "metadata": {},
     "output_type": "execute_result"
    },
    {
     "data": {
      "image/png": "[encoded data removed]",
      "text/plain": [
       "<Figure size 432x288 with 2 Axes>"
      ]
     },
     "metadata": {
      "needs_background": "light"
     },
     "output_type": "display_data"
    }
   ],
   "source": [
    "plot_confusion_matrix(knn5, X_train, y_train)"
   ]
  },
  {
   "cell_type": "code",
   "execution_count": 36,
   "metadata": {},
   "outputs": [
    {
     "name": "stdout",
     "output_type": "stream",
     "text": [
      "              precision    recall  f1-score   support\n",
      "\n",
      "           0       0.84      0.87      0.85       329\n",
      "           1       0.77      0.73      0.75       205\n",
      "\n",
      "    accuracy                           0.81       534\n",
      "   macro avg       0.81      0.80      0.80       534\n",
      "weighted avg       0.81      0.81      0.81       534\n",
      "\n"
     ]
    }
   ],
   "source": [
    "print(classification_report(y_train, y_pred5))"
   ]
  },
  {
   "cell_type": "code",
   "execution_count": 24,
   "metadata": {},
   "outputs": [],
   "source": [
    "TP = 150 \n",
    "TN = 285\n",
    "FP = 44\n",
    "FN = 55"
   ]
  },
  {
   "cell_type": "code",
   "execution_count": 25,
   "metadata": {},
   "outputs": [
    {
     "name": "stdout",
     "output_type": "stream",
     "text": [
      "Accuracy: 0.8146067415730337\n",
      "\n",
      "True Positive Rate/Sensitivity/Recall/Power: 0.7317073170731707\n",
      "False Positive Rate/False Alarm Ratio/Fall-out: 0.1337386018237082\n",
      "True Negative Rate/Specificity/Selectivity: 0.8662613981762918\n",
      "False Negative Rate/Miss Rate: 0.2682926829268293\n",
      "\n",
      "Precision/PPV: 0.7731958762886598\n",
      "F1 Score: 0.7518796992481203\n",
      "\n",
      "Support (0): 205\n",
      "Support (1): 329\n"
     ]
    }
   ],
   "source": [
    "all_ = (TP + TN + FP + FN) #save output as dictionary then DF make into function \n",
    "\n",
    "accuracy = (TP + TN) / all_\n",
    "print(f\"Accuracy: {accuracy}\\n\")\n",
    "\n",
    "TPR = recall = TP / (TP + FN)\n",
    "FPR = FP / (FP + TN)\n",
    "print(f\"True Positive Rate/Sensitivity/Recall/Power: {TPR}\")\n",
    "print(f\"False Positive Rate/False Alarm Ratio/Fall-out: {FPR}\")\n",
    "\n",
    "TNR = TN / (FP + TN)\n",
    "FNR = FN / (FN + TP)\n",
    "print(f\"True Negative Rate/Specificity/Selectivity: {TNR}\")\n",
    "print(f\"False Negative Rate/Miss Rate: {FNR}\\n\")\n",
    "\n",
    "precision =  TP / (TP + FP)\n",
    "f1 =  2 * ((precision * recall) / ( precision + recall))\n",
    "print(f\"Precision/PPV: {precision}\")\n",
    "print(f\"F1 Score: {f1}\\n\")\n",
    "\n",
    "support_pos = TP + FN\n",
    "support_neg = FP + TN\n",
    "print(f\"Support (0): {support_pos}\")\n",
    "print(f\"Support (1): {support_neg}\")"
   ]
  },
  {
   "cell_type": "code",
   "execution_count": 38,
   "metadata": {},
   "outputs": [
    {
     "name": "stdout",
     "output_type": "stream",
     "text": [
      "k number = 10 accuracy = (0.7771535580524345, 0.7134831460674157)\n",
      "k number = 20 accuracy = (0.7434456928838952, 0.6629213483146067)\n"
     ]
    },
    {
     "data": {
      "image/png": "[encoded data removed]",
      "text/plain": [
       "<Figure size 432x288 with 2 Axes>"
      ]
     },
     "metadata": {
      "needs_background": "light"
     },
     "output_type": "display_data"
    },
    {
     "data": {
      "image/png": "[encoded data removed]",
      "text/plain": [
       "<Figure size 432x288 with 2 Axes>"
      ]
     },
     "metadata": {
      "needs_background": "light"
     },
     "output_type": "display_data"
    },
    {
     "data": {
      "image/png": "[encoded data removed]",
      "text/plain": [
       "<Figure size 432x288 with 2 Axes>"
      ]
     },
     "metadata": {
      "needs_background": "light"
     },
     "output_type": "display_data"
    },
    {
     "data": {
      "image/png": "[encoded data removed]",
      "text/plain": [
       "<Figure size 432x288 with 2 Axes>"
      ]
     },
     "metadata": {
      "needs_background": "light"
     },
     "output_type": "display_data"
    }
   ],
   "source": [
    "#Loop for knn\n",
    "\n",
    "scores_all = []\n",
    "k_range=[10,20]\n",
    "\n",
    "for x in k_range:\n",
    "    \n",
    "    #make it\n",
    "    knnx = KNeighborsClassifier(n_neighbors=x ) #increases the k number\n",
    "    #fit it\n",
    "    knnx.fit(X_train, y_train)\n",
    "    #transform it\n",
    "    train_acc = knnx.score(X_train, y_train)\n",
    "    \n",
    "    plot_confusion_matrix(knnx, X_train, y_train)\n",
    "    \n",
    "    #evaluate on my validate data\n",
    "    val_acc = knnx.score(X_validate, y_validate)\n",
    "    \n",
    "    plot_confusion_matrix(knnx, X_validate, y_validate)\n",
    "    \n",
    "    print(f'k number = {x} accuracy = {train_acc, val_acc}')\n",
    "\n",
    "    scores_all.append([x, train_acc, val_acc])"
   ]
  },
  {
   "cell_type": "code",
   "execution_count": 39,
   "metadata": {},
   "outputs": [
    {
     "data": {
      "text/plain": [
       "[[10, 0.7771535580524345, 0.7134831460674157],\n",
       " [20, 0.7434456928838952, 0.6629213483146067]]"
      ]
     },
     "execution_count": 39,
     "metadata": {},
     "output_type": "execute_result"
    }
   ],
   "source": [
    "scores_all"
   ]
  },
  {
   "cell_type": "code",
   "execution_count": null,
   "metadata": {},
   "outputs": [],
   "source": []
  },
  {
   "cell_type": "code",
   "execution_count": null,
   "metadata": {},
   "outputs": [],
   "source": []
  },
  {
   "cell_type": "code",
   "execution_count": 31,
   "metadata": {},
   "outputs": [
    {
     "data": {
      "text/html": [
       "<div>\n",
       "<style scoped>\n",
       "    .dataframe tbody tr th:only-of-type {\n",
       "        vertical-align: middle;\n",
       "    }\n",
       "\n",
       "    .dataframe tbody tr th {\n",
       "        vertical-align: top;\n",
       "    }\n",
       "\n",
       "    .dataframe thead th {\n",
       "        text-align: right;\n",
       "    }\n",
       "</style>\n",
       "<table border=\"1\" class=\"dataframe\">\n",
       "  <thead>\n",
       "    <tr style=\"text-align: right;\">\n",
       "      <th></th>\n",
       "      <th>k number</th>\n",
       "      <th>train_acc</th>\n",
       "      <th>val_acc</th>\n",
       "      <th>diff</th>\n",
       "    </tr>\n",
       "  </thead>\n",
       "  <tbody>\n",
       "    <tr>\n",
       "      <th>0</th>\n",
       "      <td>10</td>\n",
       "      <td>0.777154</td>\n",
       "      <td>0.713483</td>\n",
       "      <td>0.063670</td>\n",
       "    </tr>\n",
       "    <tr>\n",
       "      <th>1</th>\n",
       "      <td>20</td>\n",
       "      <td>0.743446</td>\n",
       "      <td>0.662921</td>\n",
       "      <td>0.080524</td>\n",
       "    </tr>\n",
       "  </tbody>\n",
       "</table>\n",
       "</div>"
      ],
      "text/plain": [
       "   k number  train_acc   val_acc      diff\n",
       "0        10   0.777154  0.713483  0.063670\n",
       "1        20   0.743446  0.662921  0.080524"
      ]
     },
     "execution_count": 31,
     "metadata": {},
     "output_type": "execute_result"
    }
   ],
   "source": [
    "scores_df = pd.DataFrame(scores_all, columns=['k number','train_acc','val_acc']) #data frame listing all train scores v. value scores\n",
    "scores_df[\"diff\"] = scores_df.train_acc - scores_df.val_acc\n",
    "scores_df"
   ]
  },
  {
   "cell_type": "code",
   "execution_count": 37,
   "metadata": {},
   "outputs": [],
   "source": [
    "def print_cm_metrics(conf):\n",
    "    tn, fp, fn, tp = conf.ravel()\n",
    "\n",
    "    accuracy = (tp + tn)/(tn + fp + fn + tp)\n",
    "\n",
    "    true_positive_rate = tp/(tp + fn)\n",
    "    false_positive_rate = fp/(fp + tn)\n",
    "    true_negative_rate = tn/(tn + fp)\n",
    "    false_negative_rate = fn/(fn + tp)\n",
    "\n",
    "    precision = tp/(tp + fp)\n",
    "    recall = tp/(tp + fn)\n",
    "    f1_score = 2*(precision*recall)/(precision+recall)\n",
    "\n",
    "    support_pos = tp + fn\n",
    "    support_neg = fp + tn\n",
    "\n",
    "    dict = {\n",
    "        'metric' : ['accuracy'\n",
    "                    ,'true_positive_rate'\n",
    "                    ,'false_positive_rate'\n",
    "                    ,'true_negative_rate'\n",
    "                    ,'false_negative_rate'\n",
    "                    ,'precision'\n",
    "                    ,'recall'\n",
    "                    ,'f1_score'\n",
    "                    ,'support_pos'\n",
    "                    ,'support_neg']\n",
    "        ,'score' : [accuracy\n",
    "                    ,true_positive_rate\n",
    "                    ,false_positive_rate\n",
    "                    ,true_negative_rate\n",
    "                    ,false_negative_rate\n",
    "                    ,precision\n",
    "                    ,recall\n",
    "                    ,f1_score\n",
    "                    ,support_pos\n",
    "                    ,support_neg]\n",
    "    }\n",
    "    return pd.dataFrame(dict)"
   ]
  },
  {
   "cell_type": "code",
   "execution_count": 55,
   "metadata": {},
   "outputs": [
    {
     "name": "stdout",
     "output_type": "stream",
     "text": [
      "\n",
      "------------------------ Train Model with K range of 10 ------------------------------\n"
     ]
    },
    {
     "data": {
      "image/png": "[encoded data removed]",
      "text/plain": [
       "<Figure size 432x288 with 2 Axes>"
      ]
     },
     "metadata": {
      "needs_background": "light"
     },
     "output_type": "display_data"
    },
    {
     "name": "stdout",
     "output_type": "stream",
     "text": [
      "                metric       score\n",
      "0             accuracy    0.777154\n",
      "1   true_positive_rate    0.619512\n",
      "2  false_positive_rate    0.124620\n",
      "3   true_negative_rate    0.875380\n",
      "4  false_negative_rate    0.380488\n",
      "5            precision    0.755952\n",
      "6               recall    0.619512\n",
      "7             f1_score    0.680965\n",
      "8          support_pos  205.000000\n",
      "9          support_neg  329.000000\n",
      "\n",
      "---------------------Validate Model with K range of 10---------------------------------\n"
     ]
    },
    {
     "data": {
      "image/png": "[encoded data removed]",
      "text/plain": [
       "<Figure size 432x288 with 2 Axes>"
      ]
     },
     "metadata": {
      "needs_background": "light"
     },
     "output_type": "display_data"
    },
    {
     "name": "stdout",
     "output_type": "stream",
     "text": [
      "                metric       score\n",
      "0             accuracy    0.713483\n",
      "1   true_positive_rate    0.544118\n",
      "2  false_positive_rate    0.181818\n",
      "3   true_negative_rate    0.818182\n",
      "4  false_negative_rate    0.455882\n",
      "5            precision    0.649123\n",
      "6               recall    0.544118\n",
      "7             f1_score    0.592000\n",
      "8          support_pos   68.000000\n",
      "9          support_neg  110.000000\n",
      "\n",
      "k number = 10 accuracy = (0.7771535580524345, 0.7134831460674157)\n",
      "\n",
      "------------------------ Train Model with K range of 20 ------------------------------\n"
     ]
    },
    {
     "data": {
      "image/png": "[encoded data removed]",
      "text/plain": [
       "<Figure size 432x288 with 2 Axes>"
      ]
     },
     "metadata": {
      "needs_background": "light"
     },
     "output_type": "display_data"
    },
    {
     "name": "stdout",
     "output_type": "stream",
     "text": [
      "                metric       score\n",
      "0             accuracy    0.743446\n",
      "1   true_positive_rate    0.536585\n",
      "2  false_positive_rate    0.127660\n",
      "3   true_negative_rate    0.872340\n",
      "4  false_negative_rate    0.463415\n",
      "5            precision    0.723684\n",
      "6               recall    0.536585\n",
      "7             f1_score    0.616246\n",
      "8          support_pos  205.000000\n",
      "9          support_neg  329.000000\n",
      "\n",
      "---------------------Validate Model with K range of 20---------------------------------\n"
     ]
    },
    {
     "data": {
      "image/png": "[encoded data removed]",
      "text/plain": [
       "<Figure size 432x288 with 2 Axes>"
      ]
     },
     "metadata": {
      "needs_background": "light"
     },
     "output_type": "display_data"
    },
    {
     "name": "stdout",
     "output_type": "stream",
     "text": [
      "                metric       score\n",
      "0             accuracy    0.662921\n",
      "1   true_positive_rate    0.455882\n",
      "2  false_positive_rate    0.209091\n",
      "3   true_negative_rate    0.790909\n",
      "4  false_negative_rate    0.544118\n",
      "5            precision    0.574074\n",
      "6               recall    0.455882\n",
      "7             f1_score    0.508197\n",
      "8          support_pos   68.000000\n",
      "9          support_neg  110.000000\n",
      "\n",
      "k number = 20 accuracy = (0.7434456928838952, 0.6629213483146067)\n"
     ]
    }
   ],
   "source": [
    "scores_all = []\n",
    "k_range=[10,20] #make this into a function and split the train and validate (drop validate and genericfy)\n",
    "\n",
    "for x in k_range:\n",
    "    \n",
    "    #make it\n",
    "    knnx = KNeighborsClassifier(n_neighbors=x) #increases the k number\n",
    "    #fit it\n",
    "    knnx.fit(X_train, y_train)\n",
    "    #transform it\n",
    "    train_acc = knnx.score(X_train, y_train)\n",
    "    y_pred = knnx.predict(X_train)\n",
    "    \n",
    "    conf = confusion_matrix(y_train, y_pred)\n",
    "    TN, FP, FN, TP = conf.ravel()\n",
    "\n",
    "    all_ = (TP + TN + FP + FN)\n",
    "\n",
    "    accuracy = (TP + TN) / all_\n",
    "    print(f\"\\n------------------------ Train Model with K range of {x} ------------------------------\")\n",
    "    plot_confusion_matrix(knnx, X_train, y_train)\n",
    "    plt.show()\n",
    "    print(print_cm_metrics(conf)) \n",
    "    \n",
    "    #evaluate on my validate data\n",
    "    val_acc = knnx.score(X_validate, y_validate)\n",
    "    y_vpred = knnx.predict(X_validate)\n",
    "    conf = confusion_matrix(y_validate, y_vpred)\n",
    "    TN, FP, FN, TP = conf.ravel()\n",
    "\n",
    "    \n",
    "\n",
    "    all_ = (TP + TN + FP + FN)\n",
    "\n",
    "    accuracy = (TP + TN) / all_\n",
    "    print(f\"\\n---------------------Validate Model with K range of {x}---------------------------------\")\n",
    "    plot_confusion_matrix(knnx, X_validate, y_validate)\n",
    "    plt.show()\n",
    "    (print_cm_metrics(conf))\n",
    "    print(f'\\nk number = {x} accuracy = {train_acc, val_acc}')\n",
    "\n",
    "    scores_all.append([x, train_acc, val_acc]) "
   ]
  },
  {
   "cell_type": "code",
   "execution_count": 22,
   "metadata": {},
   "outputs": [],
   "source": [
    "k_range = [10,20]"
   ]
  },
  {
   "cell_type": "code",
   "execution_count": 23,
   "metadata": {},
   "outputs": [
    {
     "name": "stdout",
     "output_type": "stream",
     "text": [
      "\n",
      "------------------------ Train Model with K range of 1 ------------------------------\n"
     ]
    },
    {
     "data": {
      "image/png": "[encoded data removed]",
      "text/plain": [
       "<Figure size 432x288 with 2 Axes>"
      ]
     },
     "metadata": {
      "needs_background": "light"
     },
     "output_type": "display_data"
    },
    {
     "name": "stdout",
     "output_type": "stream",
     "text": [
      "                    0           1  accuracy   macro avg  weighted avg\n",
      "precision    0.932353    0.938144  0.934457    0.935249      0.934576\n",
      "recall       0.963526    0.887805  0.934457    0.925665      0.934457\n",
      "f1-score     0.947683    0.912281  0.934457    0.929982      0.934092\n",
      "support    329.000000  205.000000  0.934457  534.000000    534.000000\n",
      "                metric       score\n",
      "0             accuracy    0.934457\n",
      "1   true_positive_rate    0.887805\n",
      "2  false_positive_rate    0.036474\n",
      "3   true_negative_rate    0.963526\n",
      "4  false_negative_rate    0.112195\n",
      "5            precision    0.938144\n",
      "6               recall    0.887805\n",
      "7             f1_score    0.912281\n",
      "8          support_pos  205.000000\n",
      "9          support_neg  329.000000\n",
      "\n",
      "---------------------Validate Model with K range of 1---------------------------------\n"
     ]
    },
    {
     "data": {
      "image/png": "[encoded data removed]",
      "text/plain": [
       "<Figure size 432x288 with 2 Axes>"
      ]
     },
     "metadata": {
      "needs_background": "light"
     },
     "output_type": "display_data"
    },
    {
     "name": "stdout",
     "output_type": "stream",
     "text": [
      "                    0           1  accuracy   macro avg  weighted avg\n",
      "precision    0.932353    0.938144  0.934457    0.935249      0.934576\n",
      "recall       0.963526    0.887805  0.934457    0.925665      0.934457\n",
      "f1-score     0.947683    0.912281  0.934457    0.929982      0.934092\n",
      "support    329.000000  205.000000  0.934457  534.000000    534.000000\n",
      "                metric       score\n",
      "0             accuracy    0.691011\n",
      "1   true_positive_rate    0.588235\n",
      "2  false_positive_rate    0.245455\n",
      "3   true_negative_rate    0.754545\n",
      "4  false_negative_rate    0.411765\n",
      "5            precision    0.597015\n",
      "6               recall    0.588235\n",
      "7             f1_score    0.592593\n",
      "8          support_pos   68.000000\n",
      "9          support_neg  110.000000\n",
      "\n",
      "k number = 1 accuracy = (0.9344569288389513, 0.6910112359550562)\n",
      "\n",
      "------------------------ Train Model with K range of 5 ------------------------------\n"
     ]
    },
    {
     "data": {
      "image/png": "[encoded data removed]",
      "text/plain": [
       "<Figure size 432x288 with 2 Axes>"
      ]
     },
     "metadata": {
      "needs_background": "light"
     },
     "output_type": "display_data"
    },
    {
     "name": "stdout",
     "output_type": "stream",
     "text": [
      "                    0           1  accuracy   macro avg  weighted avg\n",
      "precision    0.838235    0.773196  0.814607    0.805716      0.813267\n",
      "recall       0.866261    0.731707  0.814607    0.798984      0.814607\n",
      "f1-score     0.852018    0.751880  0.814607    0.801949      0.813575\n",
      "support    329.000000  205.000000  0.814607  534.000000    534.000000\n",
      "                metric       score\n",
      "0             accuracy    0.814607\n",
      "1   true_positive_rate    0.731707\n",
      "2  false_positive_rate    0.133739\n",
      "3   true_negative_rate    0.866261\n",
      "4  false_negative_rate    0.268293\n",
      "5            precision    0.773196\n",
      "6               recall    0.731707\n",
      "7             f1_score    0.751880\n",
      "8          support_pos  205.000000\n",
      "9          support_neg  329.000000\n",
      "\n",
      "---------------------Validate Model with K range of 5---------------------------------\n"
     ]
    },
    {
     "data": {
      "image/png": "[encoded data removed]",
      "text/plain": [
       "<Figure size 432x288 with 2 Axes>"
      ]
     },
     "metadata": {
      "needs_background": "light"
     },
     "output_type": "display_data"
    },
    {
     "name": "stdout",
     "output_type": "stream",
     "text": [
      "                    0           1  accuracy   macro avg  weighted avg\n",
      "precision    0.838235    0.773196  0.814607    0.805716      0.813267\n",
      "recall       0.866261    0.731707  0.814607    0.798984      0.814607\n",
      "f1-score     0.852018    0.751880  0.814607    0.801949      0.813575\n",
      "support    329.000000  205.000000  0.814607  534.000000    534.000000\n",
      "                metric       score\n",
      "0             accuracy    0.730337\n",
      "1   true_positive_rate    0.661765\n",
      "2  false_positive_rate    0.227273\n",
      "3   true_negative_rate    0.772727\n",
      "4  false_negative_rate    0.338235\n",
      "5            precision    0.642857\n",
      "6               recall    0.661765\n",
      "7             f1_score    0.652174\n",
      "8          support_pos   68.000000\n",
      "9          support_neg  110.000000\n",
      "\n",
      "k number = 5 accuracy = (0.8146067415730337, 0.7303370786516854)\n"
     ]
    }
   ],
   "source": [
    "atm.auto_model_knn(X_train, y_train, X_validate, y_validate, k_range)"
   ]
  }
 ],
 "metadata": {
  "kernelspec": {
   "display_name": "base",
   "language": "python",
   "name": "python3"
  },
  "language_info": {
   "codemirror_mode": {
    "name": "ipython",
    "version": 3
   },
   "file_extension": ".py",
   "mimetype": "text/x-python",
   "name": "python",
   "nbconvert_exporter": "python",
   "pygments_lexer": "ipython3",
   "version": "3.8.8"
  },
  "orig_nbformat": 4
 },
 "nbformat": 4,
 "nbformat_minor": 2
}
